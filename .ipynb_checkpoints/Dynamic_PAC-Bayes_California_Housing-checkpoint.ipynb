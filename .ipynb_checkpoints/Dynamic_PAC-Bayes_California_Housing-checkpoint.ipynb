{
 "cells": [
  {
   "cell_type": "markdown",
   "id": "f4375e82",
   "metadata": {},
   "source": [
    "## Dynamic PAC-Bayes algorithms\n",
    "\n",
    "This code is dedicated to test and compare algorithms described in Online PAC-Bayes learning. We use the California Housing dataset and we aim to establish the best linear predictor for this problem. "
   ]
  },
  {
   "cell_type": "code",
   "execution_count": 1,
   "id": "d1111cc3",
   "metadata": {},
   "outputs": [],
   "source": [
    "import numpy as np\n",
    "import pandas as pd\n",
    "import seaborn as sns\n",
    "import matplotlib.pyplot as plt\n",
    "from scipy.special import *\n",
    "import scipy.stats as stat\n",
    "import time\n",
    "import random\n",
    "from sklearn.datasets import fetch_california_housing"
   ]
  },
  {
   "cell_type": "markdown",
   "id": "45b66465",
   "metadata": {},
   "source": [
    "### Create dataset"
   ]
  },
  {
   "cell_type": "code",
   "execution_count": 2,
   "id": "b3367b17",
   "metadata": {},
   "outputs": [],
   "source": [
    "# Import california housing dataset from Sklearn\n",
    "boston = fetch_california_housing()\n",
    "bos = pd.DataFrame(boston.data)\n",
    "bos['Target'] = boston.target\n",
    "bos = bos.sample(len(bos))\n",
    "\n",
    "# Create target array\n",
    "Y = np.array(bos['Target'])\n",
    "#Y = (Y-Y.mean())/Y.std()\n",
    "\n",
    "# Create (standardized) features array\n",
    "bos_X = bos.drop('Target',1)\n",
    "bos_X = (bos_X-bos_X.mean())/bos_X.std()\n",
    "X = np.concatenate((np.array([[1]]*len(np.array(bos_X))),np.array(bos_X)),axis=1)\n",
    "\n",
    "# Dimensions of the problem\n",
    "n = len(X)\n",
    "d = len(X[0])"
   ]
  },
  {
   "cell_type": "markdown",
   "id": "ab36e64e",
   "metadata": {},
   "source": [
    "### Loss functions"
   ]
  },
  {
   "cell_type": "code",
   "execution_count": 3,
   "id": "17cf4e10",
   "metadata": {},
   "outputs": [],
   "source": [
    "def lr(theta,x,y):\n",
    "    # input : feature x, label y, parameter theta\n",
    "    # output : loss and gradient at theta\n",
    "    v = np.dot(theta,x)\n",
    "    loss = (y-v)**2/2 # = theta^T xx^T theta / 2 - y*theta^T x + y**2/2\n",
    "    grad = np.dot(theta,x)*x - y*x\n",
    "    return (loss,grad)"
   ]
  },
  {
   "cell_type": "code",
   "execution_count": 4,
   "id": "09aeec27",
   "metadata": {},
   "outputs": [],
   "source": [
    "def g(m,sigma,x,y):\n",
    "    # input : feature x, label y, parameter (m,sigma)\n",
    "    # output : loss and gradient at (m,sigma)\n",
    "    loss = ( np.dot(sigma**2,x**2) + np.dot(m,x)**2 ) /2 - y*np.dot(m,x) + y**2/2\n",
    "    grad_m = np.dot(m,x)*x - y*x\n",
    "    grad_sigma = sigma*x**2\n",
    "    return (loss,grad_m,grad_sigma)"
   ]
  },
  {
   "cell_type": "markdown",
   "id": "fd30aff9",
   "metadata": {},
   "source": [
    "### Online Gradient Descent"
   ]
  },
  {
   "cell_type": "code",
   "execution_count": 5,
   "id": "26e6d141",
   "metadata": {},
   "outputs": [],
   "source": [
    "def OGD(x,y,theta_0,eta):\n",
    "    # input : dataset (x,y), intialization (theta_0), stepsize eta\n",
    "    # output : sequence of means for each time step & cumulative loss\n",
    "    theta_t = theta_0\n",
    "    theta=[]\n",
    "    cum_loss = 0\n",
    "    CL = []\n",
    "    hindsight_loss = 0\n",
    "    hindsight = []\n",
    "    for i in np.arange(len(x)):\n",
    "        loss,grad = lr(theta_t,x[i],y[i])\n",
    "        theta_t = theta_t - eta*grad\n",
    "        theta_t = np.clip(theta_t,-20,20)\n",
    "        theta.append(theta_t)\n",
    "        cum_loss += loss\n",
    "        CL.append(cum_loss/(i+1))\n",
    "    return (np.array(theta),np.array(CL))"
   ]
  },
  {
   "cell_type": "code",
   "execution_count": 6,
   "id": "975be13b",
   "metadata": {},
   "outputs": [
    {
     "name": "stdout",
     "output_type": "stream",
     "text": [
      "Running time : 0.39420008659362793 seconds\n"
     ]
    }
   ],
   "source": [
    "start=time.time()\n",
    "theta_OGD,CL_OGD = OGD(X,Y,np.array([0]*d),0.05/np.sqrt(n))\n",
    "end=time.time()\n",
    "print('Running time :', end - start, 'seconds')"
   ]
  },
  {
   "cell_type": "markdown",
   "id": "1a64e8dd",
   "metadata": {},
   "source": [
    "### Streaming Variational Bayes (SVB)\n",
    "\n",
    "(extracted from Cherief-Abdellatif et al. 2019)"
   ]
  },
  {
   "cell_type": "code",
   "execution_count": 86,
   "id": "2fb7dcdd",
   "metadata": {},
   "outputs": [],
   "source": [
    "def SVB(x,y,eta,s):\n",
    "    # input : dataset (x,y), intialization (theta_0), stepsize eta\n",
    "    # output : sequence of means for each time step & cumulative loss\n",
    "    m_t = np.array([0]*d)\n",
    "    sigma_t = np.array([s]*d)\n",
    "    m = []\n",
    "    cum_loss = 0\n",
    "    CL = []\n",
    "    hindsight_loss = 0\n",
    "    hindsight = []\n",
    "    for i in np.arange(len(x)):\n",
    "        loss,grad_m,grad_sigma = g(m_t,sigma_t,x[i],y[i])\n",
    "        eta_t = eta/np.sqrt(i+1)/(0.00000001+sigma_t**2)\n",
    "        m_t = m_t - eta_t*grad_m*sigma_t**2\n",
    "        m_t = np.clip(m_t,-20,20)\n",
    "        m.append(m_t)\n",
    "        g_t = eta_t*sigma_t*grad_sigma/2\n",
    "        sigma_t = (np.sqrt(1+g_t**2)-g_t)*sigma_t\n",
    "        loss,_ = lr(m_t,x[i],y[i])\n",
    "        cum_loss += loss\n",
    "        CL.append(cum_loss/(i+1))\n",
    "    print(sigma_t)\n",
    "    return (np.array(m),np.array(CL))"
   ]
  },
  {
   "cell_type": "code",
   "execution_count": 87,
   "id": "c0c61770",
   "metadata": {
    "scrolled": true
   },
   "outputs": [
    {
     "name": "stdout",
     "output_type": "stream",
     "text": [
      "[0.1197289  0.11991069 0.12041347 0.1127877  0.10446009 0.12890193\n",
      " 0.14847476 0.11850181 0.11908778]\n",
      "Running time : 0.8448681831359863 seconds\n"
     ]
    }
   ],
   "source": [
    "start=time.time()\n",
    "theta_SVB,CL_SVB = SVB(X,Y,0.01,0.5)\n",
    "end=time.time()\n",
    "print('Running time :', end - start, 'seconds')"
   ]
  },
  {
   "cell_type": "markdown",
   "id": "3225d54b",
   "metadata": {},
   "source": [
    "### Online PAC-Bayesian algorithm with Laplace prior and Gibbs posterior"
   ]
  },
  {
   "cell_type": "code",
   "execution_count": 107,
   "id": "3b81e604",
   "metadata": {},
   "outputs": [
    {
     "data": {
      "image/png": "[encoded data removed]",
      "text/plain": [
       "<Figure size 432x288 with 1 Axes>"
      ]
     },
     "metadata": {
      "needs_background": "light"
     },
     "output_type": "display_data"
    }
   ],
   "source": [
    "plt.figure()\n",
    "plt.plot(CL_OGD,color= 'green', label= 'OGD')\n",
    "plt.plot(CL_SVB,color='purple',label='SVB')\n",
    "plt.legend(loc='upper right')\n",
    "plt.xlim((10,n))\n",
    "#plt.ylim((0.05,0.8))\n",
    "plt.yscale('log')\n",
    "plt.grid()\n",
    "plt.title('Regression - Boston Housing',fontsize=16)\n",
    "plt.ylabel('Loss',fontsize=16)\n",
    "plt.xticks(fontsize=12)\n",
    "plt.yticks(fontsize=12)\n",
    "plt.show()"
   ]
  },
  {
   "cell_type": "markdown",
   "id": "ed45dd56",
   "metadata": {},
   "source": [
    "### OPBD algorithm \n",
    "(with $\\Psi$ from Rivasplata et al. 2020)"
   ]
  },
  {
   "cell_type": "code",
   "execution_count": 14,
   "id": "8f0231ff",
   "metadata": {},
   "outputs": [],
   "source": [
    "def OPBD_Riva(x,y,llambda,sigma):\n",
    "    # input : dataset (x,y), intialization (theta_0), stepsize llambda\n",
    "    # output : sequence of means for each time step & cumulative loss\n",
    "    m_t = np.array([0]*d)\n",
    "    h_t= np.array([0]*d)\n",
    "    eps_t= stat.norm(scale=sigma).rvs(size= d)\n",
    "    m = []\n",
    "    cum_loss = 0\n",
    "    CL = []\n",
    "    for i in np.arange(len(x)):\n",
    "        # Draw of a new predictor and evaluation of its efficiency\n",
    "        h_t= m_t + stat.norm(scale=sigma).rvs(size= d)\n",
    "        loss,_ = lr(h_t,x[i],y[i])\n",
    "        # Construction of the next predictor\n",
    "        eps_t= stat.norm(scale=sigma).rvs(size= d)\n",
    "        _,grad = lr(m_t+eps_t,x[i],y[i])\n",
    "        grad= grad/(sigma**2)\n",
    "        m_t = m_t - eps_t - llambda*grad\n",
    "        m_t = np.clip(m_t,-20,20)\n",
    "        m.append(m_t)\n",
    "        cum_loss += loss \n",
    "        CL.append(cum_loss/(i+1))\n",
    "    return (np.array(m),np.array(CL))"
   ]
  },
  {
   "cell_type": "code",
   "execution_count": 100,
   "id": "6a02c8d0",
   "metadata": {},
   "outputs": [
    {
     "name": "stdout",
     "output_type": "stream",
     "text": [
      "Running time : 16.672668933868408 seconds\n"
     ]
    }
   ],
   "source": [
    "start=time.time()\n",
    "theta_OPBD_Riva,CL_OPBD_Riva = OPBD_Riva(X,Y,0.0001/n,0.003)\n",
    "end=time.time()\n",
    "print('Running time :', end - start, 'seconds')"
   ]
  },
  {
   "cell_type": "markdown",
   "id": "151f2114",
   "metadata": {},
   "source": [
    "### OPBD algorithm\n",
    "(with $\\Psi$ from Viallard et al. 2021)"
   ]
  },
  {
   "cell_type": "code",
   "execution_count": 16,
   "id": "35f480d8",
   "metadata": {},
   "outputs": [],
   "source": [
    "def OPBD_Via(x,y,llambda,sigma):\n",
    "    # input : dataset (x,y), intialization (theta_0), stepsize llambda\n",
    "    # output : sequence of means for each time step & cumulative loss\n",
    "    m_t = np.array([0]*d)\n",
    "    h_t= np.array([0]*d)\n",
    "    eps_t= stat.norm(scale=sigma).rvs(size= d)\n",
    "    m = []\n",
    "    cum_loss = 0\n",
    "    CL = []\n",
    "    for i in np.arange(len(x)):\n",
    "        # Draw of a new predictor and evaluation of its efficiency\n",
    "        h_t= m_t + stat.norm(scale=sigma).rvs(size= d)\n",
    "        loss,_ = lr(h_t,x[i],y[i])\n",
    "        # Construction of the next predictor\n",
    "        eps_t= stat.norm(scale=sigma).rvs(size= d)\n",
    "        _,grad = lr(m_t+eps_t,x[i],y[i])\n",
    "        grad= grad/(sigma**2)\n",
    "        m_t = m_t - llambda*grad\n",
    "        m_t = np.clip(m_t,-20,20)\n",
    "        m.append(m_t)\n",
    "        cum_loss += loss\n",
    "        CL.append(cum_loss/(i+1))\n",
    "    return (np.array(m),np.array(CL))"
   ]
  },
  {
   "cell_type": "code",
   "execution_count": 101,
   "id": "da7f4c81",
   "metadata": {},
   "outputs": [
    {
     "name": "stdout",
     "output_type": "stream",
     "text": [
      "Running time : 16.880334854125977 seconds\n"
     ]
    }
   ],
   "source": [
    "start=time.time()\n",
    "theta_OPBD_Via,CL_OPBD_Via = OPBD_Via(X,Y,0.002/n,0.01)\n",
    "end=time.time()\n",
    "print('Running time :', end - start, 'seconds')"
   ]
  },
  {
   "cell_type": "code",
   "execution_count": 108,
   "id": "fef9852b",
   "metadata": {},
   "outputs": [
    {
     "data": {
      "image/png": "[encoded data removed]",
      "text/plain": [
       "<Figure size 432x288 with 1 Axes>"
      ]
     },
     "metadata": {
      "needs_background": "light"
     },
     "output_type": "display_data"
    }
   ],
   "source": [
    "plt.figure()\n",
    "plt.plot(CL_OGD,color= 'green', label= 'OGD')\n",
    "plt.plot(CL_SVB,color='purple',label='SVB')\n",
    "#plt.plot(CL_OPB_Gibbs,color='red',label='Gauss')\n",
    "#plt.plot(CL_OPB_Gibbs_Laplace,color='blue',label='Laplace')\n",
    "plt.plot(CL_OPBD_Riva,color='orange',label='OPBD Riva')\n",
    "plt.plot(CL_OPBD_Via,color='grey',label='OPBD Via')\n",
    "plt.legend(loc=8, ncol=2, shadow=True)\n",
    "plt.xlim((10,n))\n",
    "plt.ylim((0.1,3))\n",
    "plt.yscale('log')\n",
    "plt.grid()\n",
    "plt.title('Regression - California Housing',fontsize=16)\n",
    "plt.ylabel('Loss',fontsize=16)\n",
    "plt.xticks(fontsize=12)\n",
    "plt.yticks(fontsize=12)\n",
    "plt.savefig('reg_california.pdf')\n",
    "plt.show()"
   ]
  }
 ],
 "metadata": {
  "kernelspec": {
   "display_name": "Python 3",
   "language": "python",
   "name": "python3"
  },
  "language_info": {
   "codemirror_mode": {
    "name": "ipython",
    "version": 3
   },
   "file_extension": ".py",
   "mimetype": "text/x-python",
   "name": "python",
   "nbconvert_exporter": "python",
   "pygments_lexer": "ipython3",
   "version": "3.8.8"
  }
 },
 "nbformat": 4,
 "nbformat_minor": 5
}
