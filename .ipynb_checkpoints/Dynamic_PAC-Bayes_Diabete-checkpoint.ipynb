{
 "cells": [
  {
   "cell_type": "markdown",
   "id": "f4375e82",
   "metadata": {},
   "source": [
    "## Dynamic PAC-Bayes algorithms\n",
    "\n",
    "This code is dedicated to test and compare algorithms described in Online PAC-Bayes learning. We use the PIMA Indians dataset and we aim to establish the best linear classifier for this problem. "
   ]
  },
  {
   "cell_type": "code",
   "execution_count": 1,
   "id": "d1111cc3",
   "metadata": {},
   "outputs": [],
   "source": [
    "import numpy as np\n",
    "import pandas as pd\n",
    "import seaborn as sns\n",
    "import matplotlib.pyplot as plt\n",
    "from scipy.special import *\n",
    "import scipy.stats as stat\n",
    "import time\n",
    "import random"
   ]
  },
  {
   "cell_type": "markdown",
   "id": "45b66465",
   "metadata": {},
   "source": [
    "### Create dataset"
   ]
  },
  {
   "cell_type": "code",
   "execution_count": 2,
   "id": "b3367b17",
   "metadata": {},
   "outputs": [],
   "source": [
    "# Import diabetes dataset \n",
    "bos=pd.read_csv(\"pima-indians-diabetes.csv\")\n",
    "bos['1']\n",
    "\n",
    "bos = bos.sample(len(bos))\n",
    "\n",
    "# Create target array\n",
    "Y = np.array(bos['1'])\n",
    "#Y = (Y-Y.mean())/Y.std()\n",
    "\n",
    "# Create (standardized) features array\n",
    "bos_X = bos.drop('1',1)\n",
    "bos_X = (bos_X-bos_X.mean())/bos_X.std()\n",
    "X = np.concatenate((np.array([[1]]*len(np.array(bos_X))),np.array(bos_X)),axis=1)\n",
    "\n",
    "# Dimensions of the problem\n",
    "n = len(X)\n",
    "d = len(X[0])\n",
    "Y=2*Y-1"
   ]
  },
  {
   "cell_type": "markdown",
   "id": "ab36e64e",
   "metadata": {},
   "source": [
    "### Loss functions"
   ]
  },
  {
   "cell_type": "code",
   "execution_count": 3,
   "id": "17cf4e10",
   "metadata": {},
   "outputs": [],
   "source": [
    "def lr(theta,x,y):\n",
    "    # input : feature x, label y, parameter theta\n",
    "    # output : loss and gradient at theta\n",
    "    v = np.dot(theta,x)\n",
    "    if 1- y*v<0:\n",
    "        loss= 0\n",
    "        grad=0\n",
    "    else:\n",
    "        loss = 1- y*v\n",
    "        grad = -y*x\n",
    "    return (loss,grad)"
   ]
  },
  {
   "cell_type": "markdown",
   "id": "fd30aff9",
   "metadata": {},
   "source": [
    "### Online Gradient Descent"
   ]
  },
  {
   "cell_type": "code",
   "execution_count": 4,
   "id": "26e6d141",
   "metadata": {},
   "outputs": [],
   "source": [
    "def OGD(x,y,theta_0,eta):\n",
    "    # input : dataset (x,y), intialization (theta_0), stepsize eta\n",
    "    # output : sequence of means for each time step & cumulative loss\n",
    "    theta_t = theta_0\n",
    "    theta=[]\n",
    "    cum_loss = 0\n",
    "    CL = []\n",
    "    hindsight_loss = 0\n",
    "    hindsight = []\n",
    "    for i in np.arange(len(x)):\n",
    "        loss,grad = lr(theta_t,x[i],y[i])\n",
    "        theta_t = theta_t - eta*grad\n",
    "        theta_t = np.clip(theta_t,-20,20)\n",
    "        theta.append(theta_t)\n",
    "        cum_loss += loss\n",
    "        CL.append(cum_loss/(i+1))\n",
    "    return (np.array(theta),np.array(CL))"
   ]
  },
  {
   "cell_type": "code",
   "execution_count": 5,
   "id": "975be13b",
   "metadata": {},
   "outputs": [
    {
     "name": "stdout",
     "output_type": "stream",
     "text": [
      "Running time : 0.020114898681640625 seconds\n"
     ]
    }
   ],
   "source": [
    "start=time.time()\n",
    "theta_OGD,CL_OGD = OGD(X,Y,np.array([0]*d),0.05/np.sqrt(n))\n",
    "end=time.time()\n",
    "print('Running time :', end - start, 'seconds')"
   ]
  },
  {
   "cell_type": "markdown",
   "id": "fce8dff2",
   "metadata": {},
   "source": [
    "### Online PAC-Bayesian algorithm with Gaussian Prior and Gibbs posteriors\n",
    "\n",
    "with the choice $Q_1= \\mathcal{N}(0,\\mathbf{I}_d)$"
   ]
  },
  {
   "cell_type": "code",
   "execution_count": 6,
   "id": "ea52deb4",
   "metadata": {},
   "outputs": [],
   "source": [
    "it_MC= 300\n",
    "def OPB_Gibbs(x,y,llambda):\n",
    "    l = lambda theta,yy,xx : max(0,1-yy*np.dot(theta,xx))\n",
    "    m=[[0]*d]\n",
    "    cum_loss = 0\n",
    "    CL = []\n",
    "    for i in np.arange(len(x)):\n",
    "        f = lambda theta : np.exp(-llambda*np.sum([l(theta,y[j],x[j]) for j in range (len(x[:i]))]))\n",
    "        #estimation of the mean of the exponentiated cumulative loss function\n",
    "        temp_mean=0\n",
    "        for j in range(it_MC):\n",
    "            theta= stat.norm(scale=1.8).rvs(size= d)\n",
    "            temp_mean+= (1/it_MC)*f(theta)\n",
    "        #estimation of the true mean i.e.\n",
    "        m_t = [0]*d\n",
    "        for j in range(it_MC):\n",
    "            theta_f= stat.norm(scale=1.8).rvs(size= d)\n",
    "            h= (f(theta_f)/(0.00000001+temp_mean))*theta_f\n",
    "            m_t += h\n",
    "        m_t2=[0]*d\n",
    "        m_t2= m_t/it_MC\n",
    "        m.append(m_t2)\n",
    "        loss,_ = lr(m_t2,x[i],y[i])\n",
    "        cum_loss += loss\n",
    "        CL.append(cum_loss/(i+1))\n",
    "    return(np.array(m),np.array(CL))"
   ]
  },
  {
   "cell_type": "code",
   "execution_count": 7,
   "id": "e97b6b38",
   "metadata": {
    "scrolled": true
   },
   "outputs": [
    {
     "name": "stdout",
     "output_type": "stream",
     "text": [
      "Running time : 865.3929269313812 seconds\n"
     ]
    }
   ],
   "source": [
    "start=time.time()\n",
    "theta_OPB_Gibbs,CL_OPB_Gibbs = OPB_Gibbs(X,Y,1/n)\n",
    "end=time.time()\n",
    "print('Running time :', end - start, 'seconds')"
   ]
  },
  {
   "cell_type": "markdown",
   "id": "3225d54b",
   "metadata": {},
   "source": [
    "### Online PAC-Bayesian algorithm with Laplace prior and Gibbs posterior"
   ]
  },
  {
   "cell_type": "code",
   "execution_count": 8,
   "id": "0fe368ac",
   "metadata": {},
   "outputs": [],
   "source": [
    "it_MC= 300\n",
    "def OPB_Gibbs_Laplace(x,y,llambda):\n",
    "    l = lambda theta,yy,xx : max(0,1-yy*np.dot(theta,xx))\n",
    "    m=[[0]*d]\n",
    "    cum_loss = 0\n",
    "    CL = []\n",
    "    for i in np.arange(len(x)):\n",
    "        f = lambda theta : np.exp(-llambda*np.sum([l(theta,y[j],x[j]) for j in range (len(x[:i]))]))\n",
    "        #estimation of the mean of the exponentiated cumulative loss function\n",
    "        temp_mean=0\n",
    "        for j in range(it_MC):\n",
    "            theta= stat.laplace.rvs(size= d)\n",
    "            temp_mean+= (1/it_MC)*f(theta)\n",
    "        #estimation of the true mean i.e.\n",
    "        m_t = [0]*d\n",
    "        for j in range(it_MC):\n",
    "            theta_f= stat.laplace.rvs(size= d)\n",
    "            h= (f(theta_f)/(0.00000000001+temp_mean))*theta_f\n",
    "            m_t += h\n",
    "        m_t2=[0]*d\n",
    "        m_t2= m_t/it_MC\n",
    "        m.append(m_t2)\n",
    "        loss,_ = lr(m_t2,x[i],y[i])\n",
    "        cum_loss += loss\n",
    "        CL.append(cum_loss/(i+1))\n",
    "    return(np.array(m),np.array(CL))"
   ]
  },
  {
   "cell_type": "code",
   "execution_count": 9,
   "id": "2f123075",
   "metadata": {},
   "outputs": [
    {
     "name": "stdout",
     "output_type": "stream",
     "text": [
      "Running time : 682.3649637699127 seconds\n"
     ]
    }
   ],
   "source": [
    "start=time.time()\n",
    "theta_OPB_Gibbs_Laplace,CL_OPB_Gibbs_Laplace = OPB_Gibbs_Laplace(X,Y,1/n)\n",
    "end=time.time()\n",
    "print('Running time :', end - start, 'seconds')"
   ]
  },
  {
   "cell_type": "markdown",
   "id": "4da94e83",
   "metadata": {},
   "source": [
    "### Comparison between SVB and OPB alg with Gibs posteriors"
   ]
  },
  {
   "cell_type": "code",
   "execution_count": 10,
   "id": "3b81e604",
   "metadata": {},
   "outputs": [
    {
     "data": {
      "image/png": "[encoded data removed]",
      "text/plain": [
       "<Figure size 432x288 with 1 Axes>"
      ]
     },
     "metadata": {
      "needs_background": "light"
     },
     "output_type": "display_data"
    }
   ],
   "source": [
    "plt.figure()\n",
    "plt.plot(CL_OGD,color= 'green', label= 'OGD')\n",
    "#plt.plot(CL_SVB,color='purple',label='SVB')\n",
    "plt.plot(CL_OPB_Gibbs,color='red',label='Gauss')\n",
    "plt.plot(CL_OPB_Gibbs_Laplace,color='blue',label='Laplace')\n",
    "plt.legend(loc='upper right')\n",
    "plt.xlim((10,n))\n",
    "#plt.ylim((0.05,10))\n",
    "plt.yscale('log')\n",
    "plt.grid()\n",
    "plt.title('Regression - Diabetes',fontsize=16)\n",
    "plt.ylabel('Loss',fontsize=16)\n",
    "plt.xticks(fontsize=12)\n",
    "plt.yticks(fontsize=12)\n",
    "plt.show()"
   ]
  },
  {
   "cell_type": "markdown",
   "id": "ed45dd56",
   "metadata": {},
   "source": [
    "### OPBD algorithm \n",
    "(with $\\Psi$ from Rivasplata et al. 2020)"
   ]
  },
  {
   "cell_type": "code",
   "execution_count": 11,
   "id": "b7f56f79",
   "metadata": {},
   "outputs": [],
   "source": [
    "def OPBD_Riva(x,y,llambda,sigma):\n",
    "    # input : dataset (x,y), intialization (theta_0), stepsize llambda\n",
    "    # output : sequence of means for each time step & cumulative loss\n",
    "    m_t = np.array([0]*d)\n",
    "    h_t= np.array([0]*d)\n",
    "    eps_t= stat.norm(scale=sigma).rvs(size= d)\n",
    "    m = []\n",
    "    cum_loss = 0\n",
    "    CL = []\n",
    "    for i in np.arange(len(x)):\n",
    "        # Draw of a new predictor and evaluation of its efficiency\n",
    "        h_t= m_t + stat.norm(scale=sigma).rvs(size= d)\n",
    "        loss,_ = lr(h_t,x[i],y[i])\n",
    "        # Construction of the next predictor\n",
    "        eps_t= stat.norm(scale=sigma).rvs(size= d)\n",
    "        _,grad = lr(m_t+eps_t,x[i],y[i])\n",
    "        grad= grad/(sigma**2)\n",
    "        m_t = m_t - eps_t - llambda*grad\n",
    "        m_t = np.clip(m_t,-20,20)\n",
    "        m.append(m_t)\n",
    "        cum_loss += loss \n",
    "        CL.append(cum_loss/(i+1))\n",
    "    return (np.array(m),np.array(CL))"
   ]
  },
  {
   "cell_type": "code",
   "execution_count": 12,
   "id": "75fc2e7e",
   "metadata": {},
   "outputs": [
    {
     "name": "stdout",
     "output_type": "stream",
     "text": [
      "Running time : 0.6126060485839844 seconds\n"
     ]
    }
   ],
   "source": [
    "start=time.time()\n",
    "theta_OPBD_Riva,CL_OPBD_Riva = OPBD_Riva(X,Y,0.0001/n,0.003)\n",
    "end=time.time()\n",
    "print('Running time :', end - start, 'seconds')"
   ]
  },
  {
   "cell_type": "markdown",
   "id": "151f2114",
   "metadata": {},
   "source": [
    "### OPBD algorithm\n",
    "(with $\\Psi$ from Viallard et al. 2021)"
   ]
  },
  {
   "cell_type": "code",
   "execution_count": 13,
   "id": "35f480d8",
   "metadata": {},
   "outputs": [],
   "source": [
    "def OPBD_Via(x,y,llambda,sigma):\n",
    "    # input : dataset (x,y), intialization (theta_0), stepsize llambda\n",
    "    # output : sequence of means for each time step & cumulative loss\n",
    "    m_t = np.array([0]*d)\n",
    "    h_t= np.array([0]*d)\n",
    "    eps_t= stat.norm(scale=sigma).rvs(size= d)\n",
    "    m = []\n",
    "    cum_loss = 0\n",
    "    CL = []\n",
    "    for i in np.arange(len(x)):\n",
    "        # Draw of a new predictor and evaluation of its efficiency\n",
    "        h_t= m_t + stat.norm(scale=sigma).rvs(size= d)\n",
    "        loss,_ = lr(h_t,x[i],y[i])\n",
    "        # Construction of the next predictor\n",
    "        eps_t= stat.norm(scale=sigma).rvs(size= d)\n",
    "        _,grad = lr(m_t+eps_t,x[i],y[i])\n",
    "        grad= grad/(sigma**2)\n",
    "        m_t = m_t - llambda*grad\n",
    "        m_t = np.clip(m_t,-20,20)\n",
    "        m.append(m_t)\n",
    "        cum_loss += loss\n",
    "        CL.append(cum_loss/(i+1))\n",
    "    return (np.array(m),np.array(CL))"
   ]
  },
  {
   "cell_type": "code",
   "execution_count": 14,
   "id": "f2771c6e",
   "metadata": {},
   "outputs": [
    {
     "name": "stdout",
     "output_type": "stream",
     "text": [
      "Running time : 0.6162950992584229 seconds\n"
     ]
    }
   ],
   "source": [
    "start=time.time()\n",
    "theta_OPBD_Via,CL_OPBD_Via = OPBD_Via(X,Y,0.002/n,0.01)\n",
    "end=time.time()\n",
    "print('Running time :', end - start, 'seconds')"
   ]
  },
  {
   "cell_type": "code",
   "execution_count": 15,
   "id": "48456bce",
   "metadata": {},
   "outputs": [
    {
     "data": {
      "image/png": "[encoded data removed]",
      "text/plain": [
       "<Figure size 432x288 with 1 Axes>"
      ]
     },
     "metadata": {
      "needs_background": "light"
     },
     "output_type": "display_data"
    }
   ],
   "source": [
    "plt.figure()\n",
    "plt.plot(CL_OGD,color= 'green', label= 'OGD')\n",
    "#plt.plot(CL_SVB,color='purple',label='SVB')\n",
    "plt.plot(CL_OPB_Gibbs,color='red',label='Gibbs Gauss')\n",
    "plt.plot(CL_OPB_Gibbs_Laplace,color='blue',label='Gibbs Laplace')\n",
    "plt.plot(CL_OPBD_Riva,color='orange',label='OPBD Riva')\n",
    "plt.plot(CL_OPBD_Via,color='grey',label='OPBD Via')\n",
    "plt.legend(loc=8, ncol=3, shadow=True)\n",
    "plt.xlim((10,n))\n",
    "plt.ylim((0.5,1.1))\n",
    "plt.yscale('log')\n",
    "plt.grid()\n",
    "plt.title('Classification - PIMA Indians',fontsize=16)\n",
    "plt.ylabel('Loss',fontsize=16)\n",
    "plt.xticks(fontsize=12)\n",
    "plt.yticks(fontsize=12)\n",
    "plt.savefig('class_diabetes.pdf')\n",
    "\n",
    "plt.show()"
   ]
  }
 ],
 "metadata": {
  "kernelspec": {
   "display_name": "Python 3",
   "language": "python",
   "name": "python3"
  },
  "language_info": {
   "codemirror_mode": {
    "name": "ipython",
    "version": 3
   },
   "file_extension": ".py",
   "mimetype": "text/x-python",
   "name": "python",
   "nbconvert_exporter": "python",
   "pygments_lexer": "ipython3",
   "version": "3.8.8"
  }
 },
 "nbformat": 4,
 "nbformat_minor": 5
}
