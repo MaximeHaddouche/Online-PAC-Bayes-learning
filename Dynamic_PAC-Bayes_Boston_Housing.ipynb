{
 "cells": [
  {
   "cell_type": "markdown",
   "id": "f4375e82",
   "metadata": {},
   "source": [
    "## Dynamic PAC-Bayes algorithms\n",
    "\n",
    "This code is dedicated to test procedures described in (Haddouche & Guedj 2022). We use first the Boston Housing dataset and we aim to establish the best linear predictor for this problem. "
   ]
  },
  {
   "cell_type": "code",
   "execution_count": 1,
   "id": "d1111cc3",
   "metadata": {},
   "outputs": [],
   "source": [
    "import numpy as np\n",
    "import pandas as pd\n",
    "import seaborn as sns\n",
    "import matplotlib.pyplot as plt\n",
    "from scipy.special import *\n",
    "import scipy.stats as stat\n",
    "import time\n",
    "import random\n",
    "from sklearn.datasets import load_boston"
   ]
  },
  {
   "cell_type": "markdown",
   "id": "45b66465",
   "metadata": {},
   "source": [
    "### Create dataset"
   ]
  },
  {
   "cell_type": "code",
   "execution_count": 2,
   "id": "b3367b17",
   "metadata": {},
   "outputs": [],
   "source": [
    "# Import Boston Housing dataset from Sklearn\n",
    "boston = load_boston()\n",
    "bos = pd.DataFrame(boston.data)\n",
    "bos['Target'] = boston.target\n",
    "bos = bos.sample(len(bos))\n",
    "\n",
    "# Create target array\n",
    "Y = np.array(bos['Target'])\n",
    "Y = (Y-Y.mean())/Y.std()\n",
    "Y = np.concatenate((Y,Y),axis=0)\n",
    "\n",
    "# Create (standardized) features array\n",
    "bos_X = bos.drop('Target',1)\n",
    "bos_X = (bos_X-bos_X.mean())/bos_X.std()\n",
    "X = np.concatenate((np.array([[1]]*len(np.array(bos_X))),np.array(bos_X)),axis=1)\n",
    "X= np.concatenate((X,X),axis=0)\n",
    "\n",
    "# Dimensions of the problem\n",
    "n = len(X)\n",
    "d = len(X[0])"
   ]
  },
  {
   "cell_type": "markdown",
   "id": "ab36e64e",
   "metadata": {},
   "source": [
    "### Loss functions"
   ]
  },
  {
   "cell_type": "code",
   "execution_count": 3,
   "id": "17cf4e10",
   "metadata": {},
   "outputs": [],
   "source": [
    "def lr(theta,x,y):\n",
    "    # input : feature x, label y, parameter theta\n",
    "    # output : loss and gradient at theta\n",
    "    v = np.dot(theta,x)\n",
    "    loss = (y-v)**2/2 # = theta^T xx^T theta / 2 - y*theta^T x + y**2/2\n",
    "    grad = np.dot(theta,x)*x - y*x\n",
    "    return (loss,grad)"
   ]
  },
  {
   "cell_type": "code",
   "execution_count": 4,
   "id": "09aeec27",
   "metadata": {},
   "outputs": [],
   "source": [
    "def g(m,sigma,x,y):\n",
    "    # input : feature x, label y, parameter (m,sigma)\n",
    "    # output : loss and gradient at (m,sigma)\n",
    "    loss = ( np.dot(sigma**2,x**2) + np.dot(m,x)**2 ) /2 - y*np.dot(m,x) + y**2/2\n",
    "    grad_m = np.dot(m,x)*x - y*x\n",
    "    grad_sigma = sigma*x**2\n",
    "    return (loss,grad_m,grad_sigma)"
   ]
  },
  {
   "cell_type": "markdown",
   "id": "fd30aff9",
   "metadata": {},
   "source": [
    "### Online Gradient Descent"
   ]
  },
  {
   "cell_type": "code",
   "execution_count": 5,
   "id": "26e6d141",
   "metadata": {},
   "outputs": [],
   "source": [
    "def OGD(x,y,theta_0,eta):\n",
    "    # input : dataset (x,y), intialization (theta_0), stepsize eta\n",
    "    # output : sequence of means for each time step & cumulative loss\n",
    "    theta_t = theta_0\n",
    "    theta=[]\n",
    "    cum_loss = 0\n",
    "    CL = []\n",
    "    hindsight_loss = 0\n",
    "    hindsight = []\n",
    "    for i in np.arange(len(x)):\n",
    "        loss,grad = lr(theta_t,x[i],y[i])\n",
    "        theta_t = theta_t - eta*grad\n",
    "        theta_t = np.clip(theta_t,-20,20)\n",
    "        theta.append(theta_t)\n",
    "        cum_loss += loss\n",
    "        CL.append(cum_loss/(i+1))\n",
    "    return (np.array(theta),np.array(CL))"
   ]
  },
  {
   "cell_type": "code",
   "execution_count": 6,
   "id": "975be13b",
   "metadata": {},
   "outputs": [
    {
     "name": "stdout",
     "output_type": "stream",
     "text": [
      "Running time : 0.019999980926513672 seconds\n"
     ]
    }
   ],
   "source": [
    "start=time.time()\n",
    "theta_OGD,CL_OGD = OGD(X,Y,np.array([0]*d),1/np.sqrt(n))\n",
    "end=time.time()\n",
    "print('Running time :', end - start, 'seconds')"
   ]
  },
  {
   "cell_type": "markdown",
   "id": "1a64e8dd",
   "metadata": {},
   "source": [
    "### Streaming Variational Bayes (SVB)\n",
    "\n",
    "(extracted from Cherief-Abdellatif et al. 2019)"
   ]
  },
  {
   "cell_type": "code",
   "execution_count": 7,
   "id": "2fb7dcdd",
   "metadata": {},
   "outputs": [],
   "source": [
    "def SVB(x,y,eta,s):\n",
    "    # input : dataset (x,y), intialization (theta_0), stepsize eta\n",
    "    # output : sequence of means for each time step & cumulative loss\n",
    "    m_t = np.array([0]*d)\n",
    "    sigma_t = np.array([s]*d)\n",
    "    m = []\n",
    "    cum_loss = 0\n",
    "    CL = []\n",
    "    hindsight_loss = 0\n",
    "    hindsight = []\n",
    "    for i in np.arange(len(x)):\n",
    "        _,grad_m,grad_sigma = g(m_t,sigma_t,x[i],y[i])\n",
    "        loss,_ = lr(m_t,x[i],y[i])\n",
    "        eta_t = eta/np.sqrt(i+1)/sigma_t**2\n",
    "        m_t = m_t - eta_t*grad_m*sigma_t**2\n",
    "        m_t = np.clip(m_t,-20,20)\n",
    "        m.append(m_t)\n",
    "        g_t = eta_t*sigma_t*grad_sigma/2\n",
    "        sigma_t = (np.sqrt(1+g_t**2)-g_t)*sigma_t\n",
    "        #loss,_ = lr(m_t,x[i],y[i])\n",
    "        cum_loss += loss\n",
    "        CL.append(cum_loss/(i+1))\n",
    "    print(sigma_t)\n",
    "    return (np.array(m),np.array(CL))"
   ]
  },
  {
   "cell_type": "code",
   "execution_count": 8,
   "id": "c0c61770",
   "metadata": {},
   "outputs": [
    {
     "name": "stdout",
     "output_type": "stream",
     "text": [
      "[0.04464961 0.06790198 0.0521873  0.05048761 0.03672243 0.055604\n",
      " 0.04163879 0.04364481 0.05201422 0.04629085 0.04509966 0.05534694\n",
      " 0.04580149 0.04223039]\n",
      "Running time : 0.03975701332092285 seconds\n"
     ]
    }
   ],
   "source": [
    "start=time.time()\n",
    "theta_SVB,CL_SVB = SVB(X,Y,0.1,1)\n",
    "end=time.time()\n",
    "print('Running time :', end - start, 'seconds')"
   ]
  },
  {
   "cell_type": "markdown",
   "id": "fce8dff2",
   "metadata": {},
   "source": [
    "### Online PAC-Bayesian algorithm with Gaussian Prior and Gibbs posteriors\n",
    "\n",
    "with the choice $Q_1= \\mathcal{N}(0,\\mathbf{I}_d)$"
   ]
  },
  {
   "cell_type": "code",
   "execution_count": 20,
   "id": "ea52deb4",
   "metadata": {},
   "outputs": [],
   "source": [
    "it_MC= 500\n",
    "def OPB_Gibbs(x,y,llambda):\n",
    "    l = lambda theta,yy,xx : (yy- np.dot(theta,xx))**2/2\n",
    "    m=[[0]*d]\n",
    "    cum_loss = 0\n",
    "    CL = []\n",
    "    for i in np.arange(len(x)):\n",
    "        f = lambda theta : np.exp(-llambda*np.sum([l(theta,y[j],x[j]) for j in range (len(x[:i]))]))\n",
    "        #estimation of the mean of the exponentiated cumulative loss function\n",
    "        temp_mean=0\n",
    "        for j in range(it_MC):\n",
    "            theta= stat.norm(scale=1.5).rvs(size= d)\n",
    "            temp_mean+= (1/it_MC)*f(theta)\n",
    "        #estimation of the true mean i.e.\n",
    "        m_t = [0]*d\n",
    "        for j in range(it_MC):\n",
    "            theta_f= stat.norm(scale=1.5).rvs(size= d)\n",
    "            h= (f(theta_f)/temp_mean)*theta_f\n",
    "            m_t += h\n",
    "        m_t2=[0]*d\n",
    "        m_t2= m_t/it_MC\n",
    "        m.append(m_t2)\n",
    "        loss,_ = lr(m_t2,x[i],y[i])\n",
    "        cum_loss += loss\n",
    "        CL.append(cum_loss/(i+1))\n",
    "    return(np.array(m),np.array(CL))"
   ]
  },
  {
   "cell_type": "code",
   "execution_count": 21,
   "id": "e97b6b38",
   "metadata": {
    "scrolled": true
   },
   "outputs": [
    {
     "name": "stdout",
     "output_type": "stream",
     "text": [
      "Running time : 1179.4001400470734 seconds\n"
     ]
    }
   ],
   "source": [
    "start=time.time()\n",
    "theta_OPB_Gibbs,CL_OPB_Gibbs = OPB_Gibbs(X,Y,1/n)\n",
    "end=time.time()\n",
    "print('Running time :', end - start, 'seconds')"
   ]
  },
  {
   "cell_type": "markdown",
   "id": "21996f3e",
   "metadata": {},
   "source": [
    "### Online PAC-Bayesian algorithm with Laplace prior and Gibbs posterior"
   ]
  },
  {
   "cell_type": "code",
   "execution_count": 11,
   "id": "d2a2daea",
   "metadata": {},
   "outputs": [],
   "source": [
    "it_MC= 500\n",
    "def OPB_Gibbs_Laplace(x,y,llambda):\n",
    "    l = lambda theta,yy,xx : (yy- np.dot(theta,xx))**2/2\n",
    "    m=[[0]*d]\n",
    "    cum_loss = 0\n",
    "    CL = []\n",
    "    for i in np.arange(len(x)):\n",
    "        f = lambda theta : np.exp(-llambda*np.sum([l(theta,y[j],x[j]) for j in range (len(x[:i]))]))\n",
    "        #estimation of the mean of the exponentiated cumulative loss function\n",
    "        temp_mean=0\n",
    "        for j in range(it_MC):\n",
    "            theta= stat.laplace.rvs(size= d)\n",
    "            temp_mean+= (1/it_MC)*f(theta)\n",
    "        #estimation of the true mean i.e.\n",
    "        m_t = [0]*d\n",
    "        for j in range(it_MC):\n",
    "            theta_f= stat.laplace.rvs(size= d)\n",
    "            h= (f(theta_f)/(0.000001+temp_mean))*theta_f\n",
    "            m_t += h\n",
    "        m_t2=[0]*d\n",
    "        m_t2= m_t/it_MC\n",
    "        m.append(m_t2)\n",
    "        loss,_ = lr(m_t2,x[i],y[i])\n",
    "        cum_loss += loss\n",
    "        CL.append(cum_loss/(i+1))\n",
    "    return(np.array(m),np.array(CL))"
   ]
  },
  {
   "cell_type": "code",
   "execution_count": 12,
   "id": "d52a50fe",
   "metadata": {},
   "outputs": [
    {
     "name": "stdout",
     "output_type": "stream",
     "text": [
      "Running time : 812.1281931400299 seconds\n"
     ]
    }
   ],
   "source": [
    "start=time.time()\n",
    "theta_OPB_Gibbs_Laplace,CL_OPB_Gibbs_Laplace = OPB_Gibbs_Laplace(X,Y,1/n)\n",
    "end=time.time()\n",
    "print('Running time :', end - start, 'seconds')"
   ]
  },
  {
   "cell_type": "markdown",
   "id": "40702030",
   "metadata": {},
   "source": [
    "### Comparison between SVB and OPB alg with Gibs posteriors"
   ]
  },
  {
   "cell_type": "code",
   "execution_count": 22,
   "id": "9366b9b8",
   "metadata": {},
   "outputs": [
    {
     "data": {
      "image/png": "[encoded data removed]",
      "text/plain": [
       "<Figure size 432x288 with 1 Axes>"
      ]
     },
     "metadata": {
      "needs_background": "light"
     },
     "output_type": "display_data"
    }
   ],
   "source": [
    "plt.figure()\n",
    "plt.plot(CL_OGD,color= 'green', label= 'OGD')\n",
    "plt.plot(CL_SVB,color='purple',label='SVB')\n",
    "plt.plot(CL_OPB_Gibbs,color='red',label='Gauss')\n",
    "plt.plot(CL_OPB_Gibbs_Laplace,color='blue',label='Laplace')\n",
    "plt.legend(loc=8, ncol=2, shadow=True)\n",
    "plt.xlim((10,n))\n",
    "plt.ylim((0.1,1))\n",
    "plt.yscale('log')\n",
    "plt.grid()\n",
    "plt.title('Regression - Boston Housing',fontsize=16)\n",
    "plt.ylabel('Loss',fontsize=16)\n",
    "plt.xticks(fontsize=12)\n",
    "plt.yticks(fontsize=12)\n",
    "plt.show()"
   ]
  },
  {
   "cell_type": "markdown",
   "id": "ed45dd56",
   "metadata": {},
   "source": [
    "### OPBD algorithm \n",
    "(with $\\Psi$ from Rivasplata et al. 2020) "
   ]
  },
  {
   "cell_type": "code",
   "execution_count": 14,
   "id": "14998a0a",
   "metadata": {},
   "outputs": [],
   "source": [
    "def OPBD_Riva(x,y,llambda,sigma):\n",
    "    # input : dataset (x,y), intialization (theta_0), stepsize llambda\n",
    "    # output : sequence of means for each time step & cumulative loss\n",
    "    m_t = np.array([0]*d)\n",
    "    h_t= np.array([0]*d)\n",
    "    eps_t= stat.norm(scale=sigma).rvs(size= d)\n",
    "    m = []\n",
    "    cum_loss = 0\n",
    "    CL = []\n",
    "    for i in np.arange(len(x)):\n",
    "        # Draw of a new predictor and evaluation of its efficiency\n",
    "        h_t= m_t + stat.norm(scale=sigma).rvs(size= d)\n",
    "        loss,_ = lr(h_t,x[i],y[i])\n",
    "        # Construction of the next predictor\n",
    "        eps_t= stat.norm(scale=sigma).rvs(size= d)\n",
    "        _,grad = lr(m_t+eps_t,x[i],y[i])\n",
    "        grad= grad/(sigma**2)\n",
    "        m_t = m_t - eps_t - llambda*grad\n",
    "        m_t = np.clip(m_t,-20,20)\n",
    "        m.append(m_t)\n",
    "        cum_loss += loss \n",
    "        CL.append(cum_loss/(i+1))\n",
    "    return (np.array(m),np.array(CL))"
   ]
  },
  {
   "cell_type": "code",
   "execution_count": 15,
   "id": "cd4e0972",
   "metadata": {},
   "outputs": [
    {
     "name": "stdout",
     "output_type": "stream",
     "text": [
      "Running time : 0.8156521320343018 seconds\n"
     ]
    }
   ],
   "source": [
    "start=time.time()\n",
    "#theta_OPBD_Riva,CL_OPBD_Riva = OPBD_Riva(X,Y,0.0001/np.sqrt(n),0.01) \n",
    "theta_OPBD_Riva,CL_OPBD_Riva = OPBD_Riva(X,Y,0.0001/n,0.003)\n",
    "end=time.time()\n",
    "print('Running time :', end - start, 'seconds')"
   ]
  },
  {
   "cell_type": "code",
   "execution_count": 16,
   "id": "f0f304e2",
   "metadata": {},
   "outputs": [
    {
     "data": {
      "text/plain": [
       "array([-4.20260001e-03, -1.64516078e-01,  7.14342287e-02, -7.51196605e-02,\n",
       "        1.38996770e-01, -1.06981105e-01,  2.82925688e-01, -2.80082414e-04,\n",
       "       -2.79727750e-01,  2.48783422e-01, -5.90037523e-02, -1.97056679e-01,\n",
       "        1.23180259e-01, -4.72110907e-01])"
      ]
     },
     "execution_count": 16,
     "metadata": {},
     "output_type": "execute_result"
    }
   ],
   "source": [
    "theta_OPBD_Riva[n-1]"
   ]
  },
  {
   "cell_type": "markdown",
   "id": "151f2114",
   "metadata": {},
   "source": [
    "### OPBD algorithm\n",
    "(with $\\Psi$ from Viallard et al. 2021)"
   ]
  },
  {
   "cell_type": "code",
   "execution_count": 17,
   "id": "35f480d8",
   "metadata": {},
   "outputs": [],
   "source": [
    "def OPBD_Via(x,y,llambda,sigma):\n",
    "    # input : dataset (x,y), intialization (theta_0), stepsize llambda\n",
    "    # output : sequence of means for each time step & cumulative loss\n",
    "    m_t = np.array([0]*d)\n",
    "    h_t= np.array([0]*d)\n",
    "    eps_t= stat.norm(scale=sigma).rvs(size= d)\n",
    "    m = []\n",
    "    cum_loss = 0\n",
    "    CL = []\n",
    "    for i in np.arange(len(x)):\n",
    "        # Draw of a new predictor and evaluation of its efficiency\n",
    "        h_t= m_t + stat.norm(scale=sigma).rvs(size= d)\n",
    "        loss,_ = lr(h_t,x[i],y[i])\n",
    "        # Construction of the next predictor\n",
    "        eps_t= stat.norm(scale=sigma).rvs(size= d)\n",
    "        _,grad = lr(m_t+eps_t,x[i],y[i])\n",
    "        grad= grad/(sigma**2)\n",
    "        m_t = m_t - llambda*grad\n",
    "        m_t = np.clip(m_t,-20,20)\n",
    "        m.append(m_t)\n",
    "        cum_loss += loss\n",
    "        CL.append(cum_loss/(i+1))\n",
    "    return (np.array(m),np.array(CL))"
   ]
  },
  {
   "cell_type": "code",
   "execution_count": 18,
   "id": "26ef78e6",
   "metadata": {},
   "outputs": [
    {
     "name": "stdout",
     "output_type": "stream",
     "text": [
      "Running time : 0.812593936920166 seconds\n"
     ]
    }
   ],
   "source": [
    "start=time.time()\n",
    "#theta_OPBD_Via,CL_OPBD_Via = OPBD_Via(X,Y,0.0001/np.sqrt(n),0.02)\n",
    "theta_OPBD_Via,CL_OPBD_Via = OPBD_Via(X,Y,0.002/n,0.01)\n",
    "end=time.time()\n",
    "print('Running time :', end - start, 'seconds')"
   ]
  },
  {
   "cell_type": "markdown",
   "id": "16f64b07",
   "metadata": {},
   "source": [
    "### Comparison with classical methods"
   ]
  },
  {
   "cell_type": "code",
   "execution_count": 25,
   "id": "c0b25dab",
   "metadata": {},
   "outputs": [
    {
     "data": {
      "image/png": "[encoded data removed]",
      "text/plain": [
       "<Figure size 432x288 with 1 Axes>"
      ]
     },
     "metadata": {
      "needs_background": "light"
     },
     "output_type": "display_data"
    }
   ],
   "source": [
    "plt.figure()\n",
    "plt.plot(CL_OGD,color= 'green', label= 'OGD')\n",
    "plt.plot(CL_SVB,color='purple',label='SVB')\n",
    "plt.plot(CL_OPB_Gibbs,color='red',label='Gibbs Gauss')\n",
    "plt.plot(CL_OPB_Gibbs_Laplace,color='blue',label='Gibbs Laplace')\n",
    "plt.plot(CL_OPBD_Riva,color='orange',label='OPBD Riva')\n",
    "plt.plot(CL_OPBD_Via,color='grey',label='OPBD Via')\n",
    "plt.legend(loc=8, ncol=3, shadow=True)\n",
    "plt.xlim((10,n))\n",
    "plt.ylim((0.05,1))\n",
    "plt.yscale('log')\n",
    "plt.grid()\n",
    "plt.title('Regression - Boston Housing',fontsize=16)\n",
    "plt.ylabel('Loss',fontsize=16)\n",
    "plt.xticks(fontsize=12)\n",
    "plt.yticks(fontsize=12)\n",
    "plt.savefig('reg_boston.pdf')\n",
    "plt.show()"
   ]
  },
  {
   "cell_type": "code",
   "execution_count": null,
   "id": "482a39e1",
   "metadata": {},
   "outputs": [],
   "source": []
  }
 ],
 "metadata": {
  "kernelspec": {
   "display_name": "Python 3",
   "language": "python",
   "name": "python3"
  },
  "language_info": {
   "codemirror_mode": {
    "name": "ipython",
    "version": 3
   },
   "file_extension": ".py",
   "mimetype": "text/x-python",
   "name": "python",
   "nbconvert_exporter": "python",
   "pygments_lexer": "ipython3",
   "version": "3.8.8"
  }
 },
 "nbformat": 4,
 "nbformat_minor": 5
}
